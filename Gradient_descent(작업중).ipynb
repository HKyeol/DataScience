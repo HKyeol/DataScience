{
  "nbformat": 4,
  "nbformat_minor": 0,
  "metadata": {
    "colab": {
      "name": "Gradient_descent(작업중).ipynb",
      "provenance": [],
      "collapsed_sections": [],
      "authorship_tag": "ABX9TyP0Ibo2e2mxx/z2gTBo9cTz",
      "include_colab_link": true
    },
    "kernelspec": {
      "name": "python3",
      "display_name": "Python 3"
    }
  },
  "cells": [
    {
      "cell_type": "markdown",
      "metadata": {
        "id": "view-in-github",
        "colab_type": "text"
      },
      "source": [
        "<a href=\"https://colab.research.google.com/github/HKyeol/DataScience/blob/main/Gradient_descent(%EC%9E%91%EC%97%85%EC%A4%91).ipynb\" target=\"_parent\"><img src=\"https://colab.research.google.com/assets/colab-badge.svg\" alt=\"Open In Colab\"/></a>"
      ]
    },
    {
      "cell_type": "markdown",
      "metadata": {
        "id": "wY5BtLua4qzi"
      },
      "source": [
        "# Gradient descent를 만들어보자\n",
        "\n"
      ]
    },
    {
      "cell_type": "code",
      "metadata": {
        "colab": {
          "base_uri": "https://localhost:8080/",
          "height": 265
        },
        "id": "1fcErdfA4mYb",
        "outputId": "24af0526-4995-40e8-9f23-2d8c31f9b43b"
      },
      "source": [
        "#from google.colab import drive\n",
        "#drive.mount('/content/drive')          # 구글드라이브 연동\n",
        "\n",
        "# from google.colab import files         # 파일 직접 업로드\n",
        "# myfile = files.upload()\n",
        "import pandas as pd\n",
        "import matplotlib.pyplot as plt         #\n",
        "import numpy as np\n",
        "from plotnine import *\n",
        "\n",
        "data = pd.read_csv('Data1.txt',header = None) # Data1.txt에서 데이터 불러옴\n",
        "data.head()                                   # 데이터 확인\n",
        "\n",
        "pop = data[0]           # 도시별 인구(만명)\n",
        "profit = data[1]        # 판매액(만불)\n",
        "\n",
        "plt.scatter(pop,profit)\n",
        "x = [5, 10, 15, 20]\n",
        "y = [5, 10, 15, 20]\n",
        "plt.plot(x, y,color = 'red')\n",
        "x = [5, 10, 15]\n",
        "y = [10, 20, 30]\n",
        "plt.plot(x, y,color = 'red')\n",
        "x = [5, 10, 15, 20]\n",
        "y = [2.5, 5, 7.5, 10]\n",
        "plt.plot(x, y,color = 'red') # GD 시작점을 이렇게 랜덤으로 그어줬다 최적점을 찾아가보자\n",
        "\n",
        "def Compute_cost(X,y,theta):\n",
        "  z = (np.dot(X,theta)-y)**2\n",
        "  print(z)\n",
        "#  return(sum(z)/(2*len(X)))\n"
      ],
      "execution_count": null,
      "outputs": [
        {
          "output_type": "display_data",
          "data": {
            "image/png": "[encoded data removed]",
            "text/plain": [
              "<Figure size 432x288 with 1 Axes>"
            ]
          },
          "metadata": {
            "tags": [],
            "needs_background": "light"
          }
        }
      ]
    },
    {
      "cell_type": "code",
      "metadata": {
        "id": "NnD8FjOVqNwA"
      },
      "source": [
        "Compute_cost(pop,profit,)"
      ],
      "execution_count": null,
      "outputs": []
    },
    {
      "cell_type": "code",
      "metadata": {
        "colab": {
          "base_uri": "https://localhost:8080/"
        },
        "id": "Xc0v8SLKolyS",
        "outputId": "2e23b635-0f98-448b-ecba-ce41e9fb616f"
      },
      "source": [
        "import sympy as sp\n",
        "x = sp.symbols('x')\n",
        "y = x**2\n",
        "yp = sp.diff(y)\n",
        "print(yp)"
      ],
      "execution_count": null,
      "outputs": [
        {
          "output_type": "stream",
          "text": [
            "2*x\n"
          ],
          "name": "stdout"
        }
      ]
    },
    {
      "cell_type": "code",
      "metadata": {
        "id": "M9BSfXq9FQUS",
        "colab": {
          "base_uri": "https://localhost:8080/"
        },
        "outputId": "c2225ef3-db5b-4ad3-f9c8-932c72bd4eb1"
      },
      "source": [
        "theta = 0\n",
        "Compute_cost(pop,profit,theta)"
      ],
      "execution_count": null,
      "outputs": [
        {
          "output_type": "stream",
          "text": [
            "0     309.478464\n",
            "1      83.360552\n",
            "2     186.650244\n",
            "3     140.517316\n",
            "4      46.557423\n",
            "         ...    \n",
            "92     51.881768\n",
            "93      3.947772\n",
            "94      0.020892\n",
            "95     81.994836\n",
            "96      0.380751\n",
            "Name: 1, Length: 97, dtype: float64\n"
          ],
          "name": "stdout"
        }
      ]
    },
    {
      "cell_type": "code",
      "metadata": {
        "colab": {
          "base_uri": "https://localhost:8080/",
          "height": 715
        },
        "id": "KtDbbrdMqmRd",
        "outputId": "06fc2dd4-0423-4e26-ac5f-2c5a33b7eb75"
      },
      "source": [
        "#from google.colab import drive\n",
        "#drive.mount('/content/drive')          # 구글드라이브 연동\n",
        "\n",
        "# from google.colab import files         # 파일 직접 업로드\n",
        "# myfile = files.upload()\n",
        "import pandas as pd\n",
        "import matplotlib.pyplot as plt         #\n",
        "import numpy as np\n",
        "from plotnine import *\n",
        "\n",
        "data = pd.read_csv('Data1.txt',header = None) # Data1.tt에서 데이터 불러옴\n",
        "data.head()                                   # 데이터 확인\n",
        "\n",
        "pop = data[0]           # 도시별 인구(만명)\n",
        "profit = data[1]        # 판매액(만불)\n",
        "\n",
        "plt.scatter(pop,profit)\n",
        "x_val = [5, 10, 15, 20]\n",
        "y_val = [5, 10, 15, 20]\n",
        "plt.plot(x_val, y_val,color = 'red')\n",
        "x_val = [5, 10, 15]\n",
        "y_val = [10, 20, 30]\n",
        "plt.plot(x_val, y_val,color = 'red')\n",
        "x_val = [5, 10, 15, 20]\n",
        "y_val = [2.5, 5, 7.5, 10]\n",
        "plt.plot(x_val, y_val,color = 'red') # GD 시작점을 이렇게 랜덤으로 그어줬다 최적점을 찾아가보자\n",
        "\n",
        "# X행렬 만들기\n",
        "pop1 = data\n",
        "pop1[1] = data[0]\n",
        "pop1[0] = 1\n",
        "pop = pop1\n",
        "profit = np.array(profit)  # 일단 후퇴다\n",
        "\n",
        "def Compute_cost(X,y,theta):\n",
        "  z = (np.dot(X,theta)-y)**2\n",
        "  sumz = 0\n",
        "  print(z[0])\n",
        "Compute_cost(X,profit,theta)\n",
        "#  return(sum(z)/(2*len(X)))\n"
      ],
      "execution_count": null,
      "outputs": [
        {
          "output_type": "stream",
          "text": [
            "[1.00000000e+00 2.50398976e+00 1.98387225e+00 1.14276100e-02\n",
            " 1.56325009e+00 1.62001984e+00 1.34175690e-01 2.15502400e+00\n",
            " 3.89251210e-01 4.22508025e+00 1.95832036e+00 4.97575052e+01\n",
            " 1.89365121e+00 1.68558289e+00 2.15913636e+00 2.99532249e+00\n",
            " 5.54578090e-01 3.92040000e+00 4.63080250e-01 1.54449000e-03\n",
            " 8.48241000e-01 1.73182968e+02 2.62440000e+00 6.14656000e-01\n",
            " 2.38764304e+00 1.40064858e+02 3.26943804e+01 1.47986396e+01\n",
            " 3.67951428e+01 2.27795630e+02 3.45104929e+00 2.71128490e-01\n",
            " 4.57147161e+00 1.48425489e+00 1.21220100e+00 6.77822890e-01\n",
            " 9.71801640e-01 2.26141444e+00 3.27859308e+01 5.72594890e-01\n",
            " 2.90089024e+00 5.18017600e-02 2.11406844e+01 1.78596496e+00\n",
            " 5.10653160e-01 2.89000000e-04 4.16119201e+00 1.71269569e+00\n",
            " 2.10671820e+01 2.46019225e+00 1.84986010e-01 3.24864576e+00\n",
            " 9.84704400e-02 2.43049000e-01 6.04195290e-01 5.64301440e-01\n",
            " 6.98728810e-01 2.16207616e+00 4.84044001e+00 5.49199225e+00\n",
            " 2.94225409e+00 3.72798864e+00 2.00757727e+02 6.08072444e+01\n",
            " 1.40396431e+02 1.16856100e-02 1.40422500e+00 9.77125081e+00\n",
            " 2.59435449e+00 1.75056715e+02 9.15607081e+00 5.03553600e-02\n",
            " 1.21859521e+00 1.34096400e-02 4.33972224e+00 3.16068840e-01\n",
            " 1.83612250e-01 4.29981696e+00 1.00102632e+01 4.00960576e+00\n",
            " 1.90688481e+00 3.69293089e+00 5.69119360e-01 7.06815396e+00\n",
            " 3.53073640e-01 1.97993041e+00 4.28531401e+00 1.22788561e+00\n",
            " 2.52714609e+00 4.20537049e+00 1.96672576e+00 2.77202250e-01\n",
            " 1.53611236e+00 3.25694209e+00 1.40019889e+00 3.94873992e+01\n",
            " 2.79959824e+00]\n"
          ],
          "name": "stdout"
        },
        {
          "output_type": "display_data",
          "data": {
            "image/png": "[encoded data removed]",
            "text/plain": [
              "<Figure size 432x288 with 1 Axes>"
            ]
          },
          "metadata": {
            "tags": [],
            "needs_background": "light"
          }
        }
      ]
    },
    {
      "cell_type": "code",
      "metadata": {
        "colab": {
          "base_uri": "https://localhost:8080/"
        },
        "id": "diFyWSkjAARP",
        "outputId": "f1fc14fc-6bc0-4d8a-eef8-d2453c5b8b7e"
      },
      "source": [
        "theta = [[1],[1]]\n",
        "def Compute_cost(X,y,theta):\n",
        "  z = (np.dot(X,theta))\n",
        "  print(z)\n",
        "\n",
        "Compute_cost(X,profit,theta)\n",
        "#Compute_cost(X,)"
      ],
      "execution_count": null,
      "outputs": [
        {
          "output_type": "stream",
          "text": [
            "[[ 7.1101]\n",
            " [ 6.5277]\n",
            " [ 9.5186]\n",
            " [ 8.0032]\n",
            " [ 6.8598]\n",
            " [ 9.3829]\n",
            " [ 8.4764]\n",
            " [ 9.5781]\n",
            " [ 7.4862]\n",
            " [ 6.0546]\n",
            " [ 6.7107]\n",
            " [15.164 ]\n",
            " [ 6.734 ]\n",
            " [ 9.4084]\n",
            " [ 6.6407]\n",
            " [ 6.3794]\n",
            " [ 7.3654]\n",
            " [ 6.1301]\n",
            " [ 7.4296]\n",
            " [ 8.0708]\n",
            " [ 7.1891]\n",
            " [21.27  ]\n",
            " [ 6.4901]\n",
            " [ 7.3261]\n",
            " [ 6.5649]\n",
            " [19.945 ]\n",
            " [13.828 ]\n",
            " [11.957 ]\n",
            " [14.176 ]\n",
            " [23.203 ]\n",
            " [ 6.2524]\n",
            " [ 7.5894]\n",
            " [10.2482]\n",
            " [ 6.8918]\n",
            " [ 9.2111]\n",
            " [ 8.9334]\n",
            " [ 9.0959]\n",
            " [ 6.6063]\n",
            " [13.836 ]\n",
            " [ 7.3534]\n",
            " [ 6.4069]\n",
            " [ 7.8825]\n",
            " [12.708 ]\n",
            " [ 6.7737]\n",
            " [ 8.8247]\n",
            " [ 8.0931]\n",
            " [ 6.0702]\n",
            " [ 6.8014]\n",
            " [12.7   ]\n",
            " [ 6.5416]\n",
            " [ 8.5402]\n",
            " [ 6.3077]\n",
            " [ 8.4239]\n",
            " [ 8.6031]\n",
            " [ 7.3328]\n",
            " [ 7.3589]\n",
            " [ 7.2742]\n",
            " [ 6.6397]\n",
            " [10.3102]\n",
            " [10.4536]\n",
            " [ 9.8254]\n",
            " [ 6.1793]\n",
            " [22.279 ]\n",
            " [15.908 ]\n",
            " [19.959 ]\n",
            " [ 8.2182]\n",
            " [ 9.2951]\n",
            " [11.236 ]\n",
            " [ 6.4994]\n",
            " [21.341 ]\n",
            " [11.136 ]\n",
            " [ 8.3345]\n",
            " [ 7.0062]\n",
            " [ 8.2259]\n",
            " [ 6.0269]\n",
            " [ 7.5479]\n",
            " [ 8.5386]\n",
            " [ 6.0365]\n",
            " [11.274 ]\n",
            " [ 6.1077]\n",
            " [ 6.7292]\n",
            " [ 6.1884]\n",
            " [ 7.3557]\n",
            " [10.7687]\n",
            " [ 7.5159]\n",
            " [ 9.5172]\n",
            " [10.1802]\n",
            " [ 7.002 ]\n",
            " [ 6.5204]\n",
            " [ 6.0594]\n",
            " [ 6.7077]\n",
            " [ 8.6366]\n",
            " [ 6.8707]\n",
            " [ 6.3054]\n",
            " [ 9.2934]\n",
            " [14.394 ]\n",
            " [ 6.4369]]\n"
          ],
          "name": "stdout"
        }
      ]
    },
    {
      "cell_type": "code",
      "metadata": {
        "colab": {
          "base_uri": "https://localhost:8080/"
        },
        "id": "vIR33WJ5qpcI",
        "outputId": "fef5c0dc-8e08-40eb-e1aa-4b907ade5e57"
      },
      "source": [
        "theta = [[1],[1]] # 세타0랑 세타1 랜덤 시작점\n",
        "\n",
        "data = pd.read_csv('Data1.txt',header = None) # 준혁이가 도와줘서 풀어냄! X행렬 만들었다.\n",
        "pop = data\n",
        "pop[1] = data[0]\n",
        "pop[0] = 1\n",
        "X = pop\n",
        "\n",
        "#df1 = pd.DataFrame(a,columns = ['X0'])\n",
        "#df2 = pd.DataFrame(pop,columns = ['X1'])\n",
        "#df3 = pd.concat([df1, df2, axis = 1])\n",
        "#print(df3)\n",
        "                    # 됐다ㅣ!!!!!!!!!!!! 1시간만에 됐다.\n",
        "#z = np.dot(X,theta)\n",
        "#print(z)\n",
        "\n",
        "#  X = p\n",
        "\n",
        "#Compute_cost(pop,profit,)"
      ],
      "execution_count": null,
      "outputs": [
        {
          "output_type": "stream",
          "text": [
            "    0        1\n",
            "0   1   6.1101\n",
            "1   1   5.5277\n",
            "2   1   8.5186\n",
            "3   1   7.0032\n",
            "4   1   5.8598\n",
            ".. ..      ...\n",
            "92  1   5.8707\n",
            "93  1   5.3054\n",
            "94  1   8.2934\n",
            "95  1  13.3940\n",
            "96  1   5.4369\n",
            "\n",
            "[97 rows x 2 columns]\n",
            "    0        1\n",
            "0   1   6.1101\n",
            "1   1   5.5277\n",
            "2   1   8.5186\n",
            "3   1   7.0032\n",
            "4   1   5.8598\n",
            ".. ..      ...\n",
            "92  1   5.8707\n",
            "93  1   5.3054\n",
            "94  1   8.2934\n",
            "95  1  13.3940\n",
            "96  1   5.4369\n",
            "\n",
            "[97 rows x 2 columns]\n"
          ],
          "name": "stdout"
        }
      ]
    },
    {
      "cell_type": "code",
      "metadata": {
        "colab": {
          "base_uri": "https://localhost:8080/"
        },
        "id": "lQJT1WQo38kM",
        "outputId": "aa2d8851-deb3-4f31-98bd-8e8f32ae0162"
      },
      "source": [
        "\n",
        "data = pd.read_csv('Data1.txt',header = None) # Data1.tt에서 데이터 불러옴\n",
        "data.head()                                   # 데이터 확인\n",
        "\n",
        "pop = data[0]           # 도시별 인구(만명)\n",
        "profit = data[1]        # 판매액(만불)\n",
        "\n",
        "print(pop)"
      ],
      "execution_count": null,
      "outputs": [
        {
          "output_type": "stream",
          "text": [
            "0      6.1101\n",
            "1      5.5277\n",
            "2      8.5186\n",
            "3      7.0032\n",
            "4      5.8598\n",
            "       ...   \n",
            "92     5.8707\n",
            "93     5.3054\n",
            "94     8.2934\n",
            "95    13.3940\n",
            "96     5.4369\n",
            "Name: 0, Length: 97, dtype: float64\n"
          ],
          "name": "stdout"
        }
      ]
    },
    {
      "cell_type": "code",
      "metadata": {
        "colab": {
          "base_uri": "https://localhost:8080/"
        },
        "id": "uEtOqRnp9loU",
        "outputId": "ca7c02bc-bfb0-4153-8d54-79c4797e5c73"
      },
      "source": [
        "\n",
        "data = pd.read_csv('Data1.txt',header = None) # 준혁이가 도와줘서 풀어냄!\n",
        "pop = data\n",
        "pop[1] = data[0]\n",
        "pop[0] = 1\n",
        "print(pop)"
      ],
      "execution_count": null,
      "outputs": [
        {
          "output_type": "stream",
          "text": [
            "    0        1\n",
            "0   1   6.1101\n",
            "1   1   5.5277\n",
            "2   1   8.5186\n",
            "3   1   7.0032\n",
            "4   1   5.8598\n",
            ".. ..      ...\n",
            "92  1   5.8707\n",
            "93  1   5.3054\n",
            "94  1   8.2934\n",
            "95  1  13.3940\n",
            "96  1   5.4369\n",
            "\n",
            "[97 rows x 2 columns]\n"
          ],
          "name": "stdout"
        }
      ]
    }
  ]
}