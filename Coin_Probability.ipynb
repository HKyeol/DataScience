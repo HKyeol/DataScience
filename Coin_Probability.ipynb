{
  "nbformat": 4,
  "nbformat_minor": 0,
  "metadata": {
    "colab": {
      "name": "Coin_Probability.ipynb",
      "provenance": [],
      "collapsed_sections": [],
      "toc_visible": true,
      "authorship_tag": "ABX9TyO/qXdvUMxpZyfbpTkVlHOY",
      "include_colab_link": true
    },
    "kernelspec": {
      "name": "python3",
      "display_name": "Python 3"
    }
  },
  "cells": [
    {
      "cell_type": "markdown",
      "metadata": {
        "id": "view-in-github",
        "colab_type": "text"
      },
      "source": [
        "<a href=\"https://colab.research.google.com/github/HKyeol/DataScience/blob/main/Coin_Probability.ipynb\" target=\"_parent\"><img src=\"https://colab.research.google.com/assets/colab-badge.svg\" alt=\"Open In Colab\"/></a>"
      ]
    },
    {
      "cell_type": "markdown",
      "metadata": {
        "id": "K_yOH1YykX5V"
      },
      "source": [
        "# 동전을 던져서 앞면이 나올 확률.(오버플로우문제)\n",
        "coin_prob(던지는 횟수, N회만 나오는 경우)\n",
        "\n"
      ]
    },
    {
      "cell_type": "code",
      "metadata": {
        "id": "3eyQpxePkUKk"
      },
      "source": [
        "def coin_prob1(N,num1):\n",
        "  import numpy as np\n",
        "#  num1 = int(input('몇개가 뽑혔을 때의 확률을 알고싶나요?'))\n",
        "#  N = int(input('몇번 던지실 건가요?'))\n",
        "\n",
        "  P = 0.5\n",
        "  Q = 1-P\n",
        "\n",
        "  if num1 > N:\n",
        "    print('던진 숫자보다 많이 뽑힐 수 없습니다.')\n",
        "  else:\n",
        "    cnt = 1\n",
        "    cnt2 = 1\n",
        "    cnt3 = 1\n",
        "\n",
        "    for i in range(N,0,-1):\n",
        "      cnt *= i\n",
        "      if i == num1:\n",
        "        for j in range(num1,0,-1):\n",
        "          cnt2 *= j\n",
        "      if i == N - num1:\n",
        "        for k in range(N-num1,0,-1):\n",
        "          cnt3 *= k\n",
        "    print(cnt)\n",
        "    print(cnt2)\n",
        "    print(cnt3)\n",
        "    nCr = cnt/(cnt2*cnt3)\n",
        "    prob = P**num1*Q**(N-num1)\n",
        "    print(f'{nCr*prob*100}%')"
      ],
      "execution_count": null,
      "outputs": []
    },
    {
      "cell_type": "markdown",
      "metadata": {
        "id": "FDa7dwXuvRsZ"
      },
      "source": [
        "# nCr에서 n!과 n-r!을 서로 상쇄함으로 계산문제를 완화(여전히 오버플로우)"
      ]
    },
    {
      "cell_type": "code",
      "metadata": {
        "id": "q3e7na6JoV-G"
      },
      "source": [
        "def coin_prob2(N,num1):\n",
        "  import numpy as np\n",
        "#  num1 = int(input('몇개가 뽑혔을 때의 확률을 알고싶나요?'))\n",
        "#  N = int(input('몇번 던지실 건가요?'))\n",
        "\n",
        "  P = 0.5\n",
        "  Q = 1-P\n",
        "\n",
        "  if num1 > N:\n",
        "    print('던진 숫자보다 많이 뽑힐 수 없습니다.')\n",
        "  else:\n",
        "    cnt = 1\n",
        "    cnt2 = 1\n",
        "\n",
        "    if num1 < N - num1:  # 확률이 정확히 같은 코인에서만 가능합니다! 속도를 위해 넣었습니다. 확률이 바뀌는 경우 이부분을 수정해주어야 합니다!\n",
        "      num1 = N - num1\n",
        "\n",
        "    for i in range(N,num1,-1):\n",
        "      cnt *= i\n",
        "    for j in range(N-num1,0,-1):\n",
        "      cnt2 *= j\n",
        "\n",
        "    nCr = cnt/cnt2\n",
        "    prob = P**N        # 확률이 정확히 같은 코인에서만 가능합니다! 확률이 바뀌는 경우 P**num1*Q**(N-num1)로 수정해주어야 합니다.\n",
        "    print(f'{nCr*prob*100}%')"
      ],
      "execution_count": null,
      "outputs": []
    },
    {
      "cell_type": "code",
      "metadata": {
        "id": "74oTya-LyPNZ"
      },
      "source": [
        "coin_prob(10000,200)"
      ],
      "execution_count": null,
      "outputs": []
    },
    {
      "cell_type": "markdown",
      "metadata": {
        "id": "2DIuLdNPsQmA"
      },
      "source": [
        "이래도 오버플로가 일어난다. 로그로 가자\n",
        "\n",
        "# 로그를 이용한 오버플로우 해결 ★"
      ]
    },
    {
      "cell_type": "code",
      "metadata": {
        "id": "2jlXxm9up4h5"
      },
      "source": [
        "def coin_prob(N,num1):\n",
        "  import numpy as np\n",
        "  import math as m\n",
        "#  num1 = int(input('몇개가 뽑혔을 때의 확률을 알고싶나요?'))\n",
        "#  N = int(input('몇번 던지실 건가요?'))\n",
        "\n",
        "  P = 0.5\n",
        "  Q = 1-P\n",
        "\n",
        "  if num1 > N:\n",
        "    print('던진 숫자보다 많이 뽑힐 수 없습니다.')\n",
        "  else:\n",
        "    cnt = m.log10(1)\n",
        "    cnt2 = m.log10(1)\n",
        "\n",
        "    if num1 < N - num1:  # 확률이 정확히 같은 코인에서만 가능합니다! 속도를 위해 넣었습니다. 확률이 바뀌는 경우 이부분을 수정해주어야 합니다!\n",
        "      num1 = N - num1\n",
        "\n",
        "    for i in range(N,num1,-1):\n",
        "      cnt += m.log10(i)\n",
        "    for j in range(N-num1,0,-1):\n",
        "      cnt2 += m.log10(j)\n",
        "    nCr = cnt-cnt2\n",
        "    prob = m.log10(P)*N        # 확률이 정확히 같은 코인에서만 가능합니다! 확률이 바뀌는 경우 P**num1*Q**(N-num1)로 수정해주어야 합니다.\n",
        "    return(f'{10**(nCr+prob)*100}%')\n",
        "#    print(f'{nCr*prob*100}%') # 로그보다 로그10이 더 빠른 것같다. 그러면 로그2는? 로그2가 좀 더 빠르다 근데 답이 달라지네 수정해야겠다."
      ],
      "execution_count": null,
      "outputs": []
    },
    {
      "cell_type": "code",
      "metadata": {
        "colab": {
          "base_uri": "https://localhost:8080/"
        },
        "id": "CiVXPvrontsp",
        "outputId": "fc187385-346f-4746-ec5d-93286c9c0ddf"
      },
      "source": [
        "coin_prob(100000000,50000000)"
      ],
      "execution_count": null,
      "outputs": [
        {
          "output_type": "stream",
          "text": [
            "0.007979623292977342%\n"
          ],
          "name": "stdout"
        }
      ]
    },
    {
      "cell_type": "markdown",
      "metadata": {
        "id": "kE6QMQyhu3Sy"
      },
      "source": [
        "로그를 취해주니 오버플로우를 해결하고 10만단위로 처리할 수 있었다.  \n",
        "만약 숫자가 더 커진다면 Monte-Carlo 모형으로 랜덤처리할 수 밖에 없을 것 같다.\n",
        "\n",
        "# Monte-Carlo 모형을 이용한 오버플로우 해결(Computational cost 과다 지불)\n",
        "\n"
      ]
    },
    {
      "cell_type": "code",
      "metadata": {
        "id": "ezeQyTyXvs7f"
      },
      "source": [
        "def coin_prob3(N,num):\n",
        "  import numpy as np\n",
        "  coin = ['앞면','뒷면']\n",
        "  cnt = 0\n",
        "    \n",
        "  for k in range(1,1001):\n",
        "    a =[]\n",
        "    for i in range(1,N+1):\n",
        "      result = np.random.choice(coin)\n",
        "      a.append(result)\n",
        "\n",
        "    if a.count('앞면')== num:\n",
        "      cnt += 1\n",
        "  return cnt/1000"
      ],
      "execution_count": null,
      "outputs": []
    },
    {
      "cell_type": "code",
      "metadata": {
        "colab": {
          "base_uri": "https://localhost:8080/",
          "height": 334
        },
        "id": "XACos_QZvwdE",
        "outputId": "67857945-ca80-46c4-cbf0-28f558626902"
      },
      "source": [
        "coin_prob(1000,500)"
      ],
      "execution_count": null,
      "outputs": [
        {
          "output_type": "error",
          "ename": "KeyboardInterrupt",
          "evalue": "ignored",
          "traceback": [
            "\u001b[0;31m---------------------------------------------------------------------------\u001b[0m",
            "\u001b[0;31mKeyboardInterrupt\u001b[0m                         Traceback (most recent call last)",
            "\u001b[0;32m<ipython-input-133-ec7f7da1b756>\u001b[0m in \u001b[0;36m<module>\u001b[0;34m()\u001b[0m\n\u001b[0;32m----> 1\u001b[0;31m \u001b[0mcoin_prob\u001b[0m\u001b[0;34m(\u001b[0m\u001b[0;36m100000\u001b[0m\u001b[0;34m,\u001b[0m\u001b[0;36m50000\u001b[0m\u001b[0;34m)\u001b[0m\u001b[0;34m\u001b[0m\u001b[0;34m\u001b[0m\u001b[0m\n\u001b[0m",
            "\u001b[0;32m<ipython-input-132-541ce17f853b>\u001b[0m in \u001b[0;36mcoin_prob\u001b[0;34m(N, num)\u001b[0m\n\u001b[1;32m      7\u001b[0m     \u001b[0ma\u001b[0m \u001b[0;34m=\u001b[0m\u001b[0;34m[\u001b[0m\u001b[0;34m]\u001b[0m\u001b[0;34m\u001b[0m\u001b[0;34m\u001b[0m\u001b[0m\n\u001b[1;32m      8\u001b[0m     \u001b[0;32mfor\u001b[0m \u001b[0mi\u001b[0m \u001b[0;32min\u001b[0m \u001b[0mrange\u001b[0m\u001b[0;34m(\u001b[0m\u001b[0;36m1\u001b[0m\u001b[0;34m,\u001b[0m\u001b[0mN\u001b[0m\u001b[0;34m+\u001b[0m\u001b[0;36m1\u001b[0m\u001b[0;34m)\u001b[0m\u001b[0;34m:\u001b[0m\u001b[0;34m\u001b[0m\u001b[0;34m\u001b[0m\u001b[0m\n\u001b[0;32m----> 9\u001b[0;31m       \u001b[0mresult\u001b[0m \u001b[0;34m=\u001b[0m \u001b[0mnp\u001b[0m\u001b[0;34m.\u001b[0m\u001b[0mrandom\u001b[0m\u001b[0;34m.\u001b[0m\u001b[0mchoice\u001b[0m\u001b[0;34m(\u001b[0m\u001b[0mcoin\u001b[0m\u001b[0;34m)\u001b[0m\u001b[0;34m\u001b[0m\u001b[0;34m\u001b[0m\u001b[0m\n\u001b[0m\u001b[1;32m     10\u001b[0m       \u001b[0ma\u001b[0m\u001b[0;34m.\u001b[0m\u001b[0mappend\u001b[0m\u001b[0;34m(\u001b[0m\u001b[0mresult\u001b[0m\u001b[0;34m)\u001b[0m\u001b[0;34m\u001b[0m\u001b[0;34m\u001b[0m\u001b[0m\n\u001b[1;32m     11\u001b[0m \u001b[0;34m\u001b[0m\u001b[0m\n",
            "\u001b[0;32mmtrand.pyx\u001b[0m in \u001b[0;36mnumpy.random.mtrand.RandomState.choice\u001b[0;34m()\u001b[0m\n",
            "\u001b[0;31mKeyboardInterrupt\u001b[0m: "
          ]
        }
      ]
    },
    {
      "cell_type": "markdown",
      "metadata": {
        "id": "HivQsHRLyCMR"
      },
      "source": [
        "계산비용이 과다 지불되어 작동하지 않는다."
      ]
    },
    {
      "cell_type": "markdown",
      "metadata": {
        "id": "fTskubIMQTNr"
      },
      "source": [
        "# 동전을 던져서 a < r < b 사이가 될 확률\n"
      ]
    }
  ]
}