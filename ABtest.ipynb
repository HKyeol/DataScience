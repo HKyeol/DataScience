{
  "nbformat": 4,
  "nbformat_minor": 0,
  "metadata": {
    "colab": {
      "name": "ABtest.ipynb",
      "provenance": []
    },
    "kernelspec": {
      "name": "python3",
      "display_name": "Python 3"
    }
  },
  "cells": [
    {
      "cell_type": "markdown",
      "metadata": {
        "id": "wyox9mqprWa8"
      },
      "source": [
        "# 1. A/B 테스트에서 뽑는 비중이 달라진다면 t값에 어떠한 영향이 가는가?"
      ]
    },
    {
      "cell_type": "code",
      "metadata": {
        "colab": {
          "base_uri": "https://localhost:8080/"
        },
        "id": "0vB5YrtVrBUY",
        "outputId": "f543fa7f-8299-466b-a155-93907144b081"
      },
      "source": [
        "# 1. 비중이 50:50인 경우\n",
        "\n",
        "type1 = [0.04, 500] # 클릭율, 인원수\n",
        "type2 = [0.02, 500]\n",
        "                    # t-test 함수 만들기\n",
        "def abtestfunc(ad1, ad2):\n",
        "  import numpy as np\n",
        "  mean1 = ad1[0] * ad1[1] # 평균\n",
        "  mean2 = ad2[0] * ad2[1]\n",
        "  mean = abs(mean1 - mean2) # 분자측의 X1 - X2\n",
        "  var_den = ((ad1[1]-1)*(ad1[1]**2)*(1-ad1[0])*ad1[0] + (ad2[1]-1)*(ad2[1]**2)*(1-ad2[0])*ad2[0]) # (N1-1)s1^2 + (N2-1)S2^2 \n",
        "  var_num1 = ad1[1]+ad2[1]-2  # N1 + N2 -2\n",
        "  var_num2 = 1/ad1[1]+1/ad2[1]\n",
        "  std = np.sqrt(var_den/var_num1)*np.sqrt(var_num2)\n",
        "  t_stat = mean/std\n",
        "  return(t_stat)\n",
        "\n",
        "\n",
        "print(abtestfunc(type1,type2))"
      ],
      "execution_count": 25,
      "outputs": [
        {
          "output_type": "stream",
          "text": [
            "1.8569533817705188\n"
          ],
          "name": "stdout"
        }
      ]
    },
    {
      "cell_type": "code",
      "metadata": {
        "colab": {
          "base_uri": "https://localhost:8080/"
        },
        "id": "vL4CMgC0xAzO",
        "outputId": "47aadb4d-4079-4744-8b76-36945ca2e296"
      },
      "source": [
        "# 2. 비중이 10:90인 경우\n",
        "\n",
        "type1 = [0.04, 100]\n",
        "type2 = [0.02, 900]\n",
        "print(abtestfunc(type1,type2))"
      ],
      "execution_count": 27,
      "outputs": [
        {
          "output_type": "stream",
          "text": [
            "1.109140465112291\n"
          ],
          "name": "stdout"
        }
      ]
    },
    {
      "cell_type": "code",
      "metadata": {
        "colab": {
          "base_uri": "https://localhost:8080/"
        },
        "id": "l_tgCpKotmne",
        "outputId": "e22e2963-d9ff-4cec-9b00-a10ab25f7f96"
      },
      "source": [
        "# 3. 비중이 90:10인 경우\n",
        "\n",
        "type1 = [0.04, 900]\n",
        "type2 = [0.02, 100]\n",
        "print(abtestfunc(type1,type2))"
      ],
      "execution_count": 28,
      "outputs": [
        {
          "output_type": "stream",
          "text": [
            "1.9263129412727238\n"
          ],
          "name": "stdout"
        }
      ]
    },
    {
      "cell_type": "markdown",
      "metadata": {
        "id": "X73nmREbxkqa"
      },
      "source": [
        "결론 : 두 집단을 비교하기 위해서는 비중을 맞춰주어야 한다.  \n",
        "비중에 따라서 5% 유의수준에서 귀무가설이 reject 되기도, accept 되기도 했다. "
      ]
    }
  ]
}