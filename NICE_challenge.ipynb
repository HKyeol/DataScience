{
  "nbformat": 4,
  "nbformat_minor": 0,
  "metadata": {
    "colab": {
      "provenance": [],
      "authorship_tag": "ABX9TyM/sPivRDdbZzifImtO2hLi",
      "include_colab_link": true
    },
    "kernelspec": {
      "name": "python3",
      "display_name": "Python 3"
    },
    "language_info": {
      "name": "python"
    }
  },
  "cells": [
    {
      "cell_type": "markdown",
      "metadata": {
        "id": "view-in-github",
        "colab_type": "text"
      },
      "source": [
        "<a href=\"https://colab.research.google.com/github/HKyeol/DataScience/blob/master/NICE_challenge.ipynb\" target=\"_parent\"><img src=\"https://colab.research.google.com/assets/colab-badge.svg\" alt=\"Open In Colab\"/></a>"
      ]
    },
    {
      "cell_type": "markdown",
      "source": [
        "# **로지스틱 분류기법과 비재무 데이터를 활용한 중소기업 휴·폐업 예측 챌린지**\n",
        "\n",
        "한결, 이준혁, 신현종\n",
        "\n",
        "최종수정일 2022-09-20"
      ],
      "metadata": {
        "id": "QimU5GkCGDcN"
      }
    },
    {
      "cell_type": "markdown",
      "source": [
        "####차례"
      ],
      "metadata": {
        "id": "96AKYnCAG0By"
      }
    },
    {
      "cell_type": "code",
      "source": [
        "\"\"\"\n",
        "1. 이전 연구 참고(9.30일 이전)\n",
        "    - 기존 신용평가 모형 공부\n",
        "    - 사전 논문 분석 - (빅데이터 분석 기법을 이용한 소상공인 신용평가 모형 구축 연구 / 박주완∙배진성∙윤혁준)\n",
        "    - 논문 데이터 확보(유사 데이터라도)\n",
        "    - 논문 구현(논문의 논리와 흐름을 익힘)\n",
        "    - 평가\n",
        "\n",
        "----------------------------------------\n",
        "while time == 22/11/24 # 무한반복\n",
        "\n",
        "2. 사전작업(챌린지 시작 이후)\n",
        "    - NICE 제공 데이터 가져오기\n",
        "    - 1번(평가)을 바탕으로 추가적으로 넣을 변수 고려\n",
        "    - 제공되지 않는 데이터를 어떻게 가져올지, 혹은 어떻게 대체할지 논의\n",
        "    - 데이터 수집\n",
        "\n",
        "2. 탐색적 분석 및 전처리\n",
        "    - 기술통계 및 분포 확인\n",
        "    - 이상치 확인, 제거\n",
        "    - 스케일링 (표준화)\n",
        "    - 정규성 검정\n",
        "    - 분석대상 구간 분할\n",
        "\n",
        "3. 데이터 가공\n",
        "    - 훈련-검증 데이터셋 분할\n",
        "    - 서브샘플링\n",
        "\n",
        "4. 독립변수 선택\n",
        "    - 관측 데이터 (observed)\n",
        "    - PCA(Principal Component Analysis)\n",
        "    - 요인분석(Factor Analysis)\n",
        "\n",
        "5. 모형 구축\n",
        "    1) 로지스틱 모델\n",
        "        - 로지스틱 회귀계수의 해석\n",
        "        - 일반 로지스틱 회귀\n",
        "        - L2 제약 로지스틱 회귀\n",
        "        - Multi-task learning 확장\n",
        "    2) 기타 모델 앙상블\n",
        "        - 위험도를 측정한다던지 \n",
        "\n",
        "6. 모형 평가\n",
        "\n",
        "----------------------------------------\n",
        "\n",
        "\n",
        "7. 제출\n",
        "\"\"\""
      ],
      "metadata": {
        "id": "cCl_7ucbGC2r"
      },
      "execution_count": null,
      "outputs": []
    },
    {
      "cell_type": "code",
      "execution_count": null,
      "metadata": {
        "id": "4RItXUO2GASZ"
      },
      "outputs": [],
      "source": []
    }
  ]
}